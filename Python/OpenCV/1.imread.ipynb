{
 "cells": [
  {
   "cell_type": "code",
   "execution_count": 2,
   "metadata": {},
   "outputs": [],
   "source": [
    "import cv2\n",
    "# cv2.namedWindow('window',cv2.WINDOW_AUTOSIZE),resize is not allowed\n",
    "cv2.namedWindow('window', cv2.WINDOW_NORMAL)\n",
    "cv2.resizeWindow('window', 800, 600)\n",
    "cv2.imshow('window', 0)\n",
    "key=cv2.waitKey(0)  # return ascii value,\"0\":any key,\"3\":3milliseconds\n",
    "if key==ord('q'):\n",
    "    cv2.destroyAllWindows()"
   ]
  },
  {
   "cell_type": "code",
   "execution_count": 1,
   "metadata": {},
   "outputs": [
    {
     "name": "stdout",
     "output_type": "stream",
     "text": [
      "(512, 512, 3)\n"
     ]
    }
   ],
   "source": [
    "import cv2 \n",
    "import matplotlib.pyplot as plt\n",
    "lena=cv2.imread('./lena.jpg')# BGR\n",
    "# lena # output array\n",
    "# plt.imshow(lena)\n",
    "cv2.imshow('lena',lena)\n",
    "print(lena.shape)\n",
    "key=cv2.waitKey(0)\n",
    "if key==ord('q'):\n",
    "    cv2.destroyAllWindows()"
   ]
  },
  {
   "cell_type": "code",
   "execution_count": 3,
   "metadata": {},
   "outputs": [
    {
     "name": "stdout",
     "output_type": "stream",
     "text": [
      "-1\n"
     ]
    }
   ],
   "source": [
    "import cv2\n",
    "cv2.namedWindow('img',cv2.WINDOW_NORMAL)\n",
    "cv2.resizeWindow('img',512,512)\n",
    "img=cv2.imread('./lena.jpg')\n",
    "while True:\n",
    "    cv2.imshow('img',img)\n",
    "    key=cv2.waitKey(0)\n",
    "    if key==ord('q'):\n",
    "        break\n",
    "    elif key==ord('s'):\n",
    "        cv2.imwrite('./lena1.jpg',img)\n",
    "    else:\n",
    "        print(key)\n",
    "cv2.destroyAllWindows()"
   ]
  },
  {
   "cell_type": "code",
   "execution_count": null,
   "metadata": {},
   "outputs": [],
   "source": [
    "import cv2\n",
    "# cv2.VideoCapture('./***')\n",
    "cv2.namedWindow('video',cv2.WINDOW_NORMAL)\n",
    "cv2.resizeWindow('video',640,480)\n",
    "vc=cv2.VideoCapture(0)\n",
    "while True:#\n",
    "    ret,frame=vc.read()\n",
    "    if not ret:\n",
    "        break\n",
    "    cv2.imshow('video',frame)\n",
    "    key=cv2.waitKey(1000//30)\n",
    "    if key==ord('q'):\n",
    "        break\n",
    "vc.release()\n",
    "cv2.destroyAllWindows()"
   ]
  }
 ],
 "metadata": {
  "kernelspec": {
   "display_name": "Python 3.9.9 64-bit",
   "language": "python",
   "name": "python3"
  },
  "language_info": {
   "codemirror_mode": {
    "name": "ipython",
    "version": 3
   },
   "file_extension": ".py",
   "mimetype": "text/x-python",
   "name": "python",
   "nbconvert_exporter": "python",
   "pygments_lexer": "ipython3",
   "version": "3.9.9"
  },
  "orig_nbformat": 4,
  "vscode": {
   "interpreter": {
    "hash": "6fff98fc3b3d81bd655c2cc48858186e4d9e2db7b515bf1c3221888f12a62f87"
   }
  }
 },
 "nbformat": 4,
 "nbformat_minor": 2
}
